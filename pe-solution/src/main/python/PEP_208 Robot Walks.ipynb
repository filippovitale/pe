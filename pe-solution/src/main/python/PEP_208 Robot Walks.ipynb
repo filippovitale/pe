{
 "cells": [
  {
   "cell_type": "markdown",
   "metadata": {},
   "source": [
    "# Robot Walks\n",
    "\n",
    "## Problem 208\n",
    "\n",
    "A robot moves in a series of one-fifth circular arcs (72°), with a free choice of a clockwise or an anticlockwise arc for each step, but no turning on the spot.\n",
    "\n",
    "One of 70932 possible closed paths of 25 arcs starting northward is\n",
    "\n",
    "<img src=\"https://projecteuler.net/project/images/p208_robotwalk.gif\" />\n",
    "\n",
    "Given that the robot starts facing North, how many journeys of 70 arcs in length can it take that return it, after the final arc, to its starting position?\n",
    "(Any arc may be traversed multiple times.)"
   ]
  },
  {
   "cell_type": "code",
   "execution_count": 4,
   "metadata": {},
   "outputs": [
    {
     "name": "stdout",
     "output_type": "stream",
     "text": [
      "hello\n",
      "world\n"
     ]
    }
   ],
   "source": [
    "import asyncio\n",
    "\n",
    "async def fn():\n",
    "  print('hello')\n",
    "  await asyncio.sleep(3)\n",
    "  print('world')\n",
    "\n",
    "await fn()"
   ]
  },
  {
   "cell_type": "code",
   "execution_count": null,
   "metadata": {},
   "outputs": [],
   "source": []
  }
 ],
 "metadata": {
  "kernelspec": {
   "display_name": "python-zqp4N2IQ",
   "language": "python",
   "name": "python-zqp4n2iq"
  },
  "language_info": {
   "codemirror_mode": {
    "name": "ipython",
    "version": 3
   },
   "file_extension": ".py",
   "mimetype": "text/x-python",
   "name": "python",
   "nbconvert_exporter": "python",
   "pygments_lexer": "ipython3",
   "version": "3.8.0"
  }
 },
 "nbformat": 4,
 "nbformat_minor": 2
}
