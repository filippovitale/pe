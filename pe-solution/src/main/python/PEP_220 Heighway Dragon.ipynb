{
 "cells": [
  {
   "cell_type": "markdown",
   "metadata": {},
   "source": [
    "# Heighway Dragon\n",
    "## Problem 220\n",
    "\n",
    "<div class=\"problem_content\" role=\"problem\">\n",
    "<p>Let <b><i>D</i></b><sub>0</sub> be the two-letter string \"Fa\".  For n≥1, derive <b><i>D</i></b><sub>n</sub> from <b><i>D</i></b><sub>n-1</sub> by the string-rewriting rules:</p>\n",
    "\n",
    "<p style=\"margin-left:40px;\">\"a\" → \"aRbFR\"<br>\n",
    "\"b\" → \"LFaLb\"</p>\n",
    "\n",
    "<p>Thus, <b><i>D</i></b><sub>0</sub> = \"Fa\", <b><i>D</i></b><sub>1</sub> = \"FaRbFR\", <b><i>D</i></b><sub>2</sub> = \"FaRbFRRLFaLbFR\", and so on.</p>\n",
    "\n",
    "<p>These strings can be interpreted as instructions to a computer graphics program, with \"F\" meaning \"draw forward one unit\", \"L\" meaning \"turn left 90 degrees\", \"R\" meaning \"turn right 90 degrees\", and \"a\" and \"b\" being ignored.  The initial position of the computer cursor is (0,0), pointing up towards (0,1).</p>\n",
    "\n",
    "<p>Then <b><i>D</i></b><sub>n</sub> is an exotic drawing known as the <i>Heighway Dragon</i> of order <i>n</i>.  For example, <b><i>D</i></b><sub>10</sub> is shown below; counting each \"F\" as one step, the highlighted spot at (18,16) is the position reached after 500 steps.</p>\n",
    "\n",
    "![D10 after 500 steps](https://projecteuler.net/project/images/p220.gif \"D10 after 500 steps\")\n",
    "\n",
    "<p>What is the position of the cursor after 10<sup>12</sup> steps in <b><i>D</i></b><sub>50</sub> ?<br>\n",
    "Give your answer in the form <i>x</i>,<i>y</i> with no spaces.</p>\n",
    "\n",
    "</div>"
   ]
  },
  {
   "cell_type": "code",
   "execution_count": 27,
   "metadata": {},
   "outputs": [],
   "source": [
    "d = [\"Fa\"]\n",
    "\n",
    "def rewrite(c):\n",
    "    if c == 'a': return 'aRbFR'\n",
    "    elif c == 'b': return 'LFaLb'\n",
    "    else: return c\n",
    "\n",
    "for _ in range(10):\n",
    "    d.append(''.join(map(rewrite, list(d[-1]))))"
   ]
  },
  {
   "cell_type": "code",
   "execution_count": 34,
   "metadata": {},
   "outputs": [
    {
     "name": "stdout",
     "output_type": "stream",
     "text": [
      "0 2 2\n",
      "1 6 6\n",
      "2 14 14\n",
      "3 30 30\n",
      "4 62 62\n",
      "5 126 126\n",
      "6 254 254\n",
      "7 510 510\n",
      "8 1022 1022\n",
      "9 2046 2046\n",
      "10 4094 4094\n",
      "D10 = 4094\n",
      "D50 = 4503599627370494 ~ 4.5 * 10**15\n"
     ]
    }
   ],
   "source": [
    "# https://oeis.org/A000918\n",
    "for i, s in enumerate(d):\n",
    "    print(i, len(s), 2**(i + 2) - 2)\n",
    "    \n",
    "d10 = 2**(10 + 2) - 2\n",
    "d50 = 2**(50 + 2) - 2\n",
    "print('D10 =', d10)\n",
    "print('D50 =', d50, '~ 4.5 * 10**15')"
   ]
  },
  {
   "cell_type": "code",
   "execution_count": 41,
   "metadata": {},
   "outputs": [
    {
     "name": "stdout",
     "output_type": "stream",
     "text": [
      "0 1 1\n",
      "1 4 4\n",
      "2 10 10\n",
      "3 22 22\n",
      "4 46 46\n",
      "5 94 94\n",
      "6 190 190\n",
      "7 382 382\n",
      "8 766 766\n",
      "9 1534 1534\n",
      "10 3070 3070\n",
      "D10 = 3070\n",
      "D50 = 3377699720527870 ~ 3.4 * 10**15\n"
     ]
    }
   ],
   "source": [
    "### https://oeis.org/A033484\n",
    "for i, s in enumerate(d):\n",
    "    print(i, len(s.replace('a', '').replace('b', '')), 3*2**i - 2)\n",
    "    \n",
    "d10 = 3*2**10 - 2\n",
    "d50 = 3*2**50 - 2\n",
    "print('D10 =', d10)\n",
    "print('D50 =', d50, '~ 3.4 * 10**15')"
   ]
  }
 ],
 "metadata": {
  "kernelspec": {
   "display_name": "Python 3",
   "language": "python",
   "name": "python3"
  },
  "language_info": {
   "codemirror_mode": {
    "name": "ipython",
    "version": 3
   },
   "file_extension": ".py",
   "mimetype": "text/x-python",
   "name": "python",
   "nbconvert_exporter": "python",
   "pygments_lexer": "ipython3",
   "version": "3.6.4"
  }
 },
 "nbformat": 4,
 "nbformat_minor": 2
}
